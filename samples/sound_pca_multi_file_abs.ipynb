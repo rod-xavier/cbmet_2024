{
 "cells": [
  {
   "cell_type": "code",
   "execution_count": 113,
   "metadata": {},
   "outputs": [],
   "source": [
    "# Importing the required libraries\n",
    "import os\n",
    "import numpy as np\n",
    "\n",
    "from sklearn.decomposition import PCA\n",
    "from scipy.signal import lfilter\n",
    "import matplotlib.pyplot as plt\n",
    "\n",
    "import librosa\n",
    "import soundfile as sf\n",
    "import IPython.display as ipd\n",
    "\n",
    "import pandas as pd"
   ]
  },
  {
   "cell_type": "code",
   "execution_count": 114,
   "metadata": {},
   "outputs": [],
   "source": [
    "def plot_pca_components(explained_variance_ratio, num_components_to_keep):\n",
    "    plt.figure(figsize=(10, 6))\n",
    "    plt.bar(range(1, len(explained_variance_ratio) + 1), explained_variance_ratio)\n",
    "    \n",
    "    # Set x and y axis limits\n",
    "    plt.xlim(-0.1*len(explained_variance_ratio), 1.1*len(explained_variance_ratio))\n",
    "    plt.ylim(0, 1.1 * max(explained_variance_ratio))\n",
    "    \n",
    "    plt.xlabel(\"Component\")\n",
    "    plt.ylabel(\"Explained Variance Ratio\")\n",
    "    plt.title(\"PCA Component Magnitudes\")\n",
    "\n",
    "    # Mark the retained components\n",
    "    plt.axvline(x=num_components_to_keep, color='red', linestyle='--', label=f\"Retained Components ({num_components_to_keep})\")\n",
    "    plt.legend()\n",
    "\n",
    "    plt.show()"
   ]
  },
  {
   "cell_type": "code",
   "execution_count": 115,
   "metadata": {},
   "outputs": [],
   "source": [
    "def apply_pca_lpc(segments, sr, num_components=None, order=16):\n",
    "    # Extract LPC features\n",
    "    lpc_features = []\n",
    "    lpc_original = []\n",
    "    for segment in segments:\n",
    "        # Compute LPC coefficients\n",
    "        lpc = librosa.lpc(segment, order=order)\n",
    "        lpc_original.append(lpc)\n",
    "        lpc = lpc[1:] # Drop the first coefficient\n",
    "        lpc_features.append(lpc)  # Drop the first coefficient\n",
    "    \n",
    "    lpc_features = np.array(lpc_features)\n",
    "    \n",
    "    # Concatenate LPC features\n",
    "    data = np.array(lpc_features)\n",
    "    \n",
    "    # Apply PCA\n",
    "    pca = PCA()\n",
    "    components = pca.fit_transform(data)\n",
    "    \n",
    "    # Select the specified number of components based on energy\n",
    "    if num_components is not None:\n",
    "        explained_variance_ratio = pca.explained_variance_ratio_\n",
    "        cumulative_variance = np.cumsum(explained_variance_ratio)\n",
    "        num_components_to_keep = np.argmax(cumulative_variance >= num_components / 100) + 1\n",
    "        components = components[:, :num_components_to_keep]\n",
    "    \n",
    "    return components, pca, lpc_features, lpc_original"
   ]
  },
  {
   "cell_type": "code",
   "execution_count": 116,
   "metadata": {},
   "outputs": [],
   "source": [
    "def rebuild_audio_lpc(reduced_components, pca, lpc_features, lpc_original, segments, sr, order=16):\n",
    "    # Pad the reduced components with zeros to match the original shape\n",
    "    num_original_components = lpc_features.shape[1]\n",
    "    padding = np.zeros((reduced_components.shape[0], num_original_components - reduced_components.shape[1]))\n",
    "    reduced_components_padded = np.hstack((reduced_components, padding))\n",
    "    \n",
    "    # Reconstruct LPC features\n",
    "    reconstructed_lpc = pca.inverse_transform(reduced_components_padded.T)\n",
    "    \n",
    "    # Rebuild the audio from LPC coefficients\n",
    "    reconstructed_audio = []\n",
    "    for i, segment in enumerate(segments):\n",
    "        reconstructed_filter = [1] + reconstructed_lpc[i]\n",
    "        reconstructed_filter = reconstructed_filter*np.linalg.norm(np.array(lpc_original[i]))/np.linalg.norm(np.array(reconstructed_filter))\n",
    "        reconstructed_segment = lfilter(reconstructed_filter, [1], segment)  # Restore the first coefficient\n",
    "        reconstructed_audio.append(reconstructed_segment)\n",
    "    \n",
    "    reconstructed_audio = np.concatenate(reconstructed_audio)\n",
    "    return reconstructed_audio"
   ]
  },
  {
   "cell_type": "code",
   "execution_count": 117,
   "metadata": {},
   "outputs": [],
   "source": [
    "def load_and_segment(folder, segment_duration=10, max_files=10):\n",
    "    # Segment the audio\n",
    "    files = []\n",
    "    segments = []\n",
    "    segments_by_file = []\n",
    "    for filename in os.listdir(folder):\n",
    "        if filename.endswith('.wav') and (not filename.endswith('_pca.wav')):\n",
    "            file_path = os.path.join(folder, filename)\n",
    "            # Check if the .wav file exists\n",
    "            if not os.path.isfile(file_path):\n",
    "                continue\n",
    "            else:\n",
    "                files.append(file_path)\n",
    "                y, sr = librosa.load(file_path, sr=None)\n",
    "\n",
    "                # Calculate the number of segments\n",
    "                num_segments = len(y) // (sr * segment_duration)\n",
    "                segments_by_file.append(num_segments)\n",
    "\n",
    "                for i in range(num_segments):\n",
    "                    start = i * sr * segment_duration\n",
    "                    end = (i + 1) * sr * segment_duration\n",
    "                    segments.append(y[start:end])\n",
    "                \n",
    "                if len(files) == max_files:\n",
    "                    break\n",
    "\n",
    "    return files, segments, segments_by_file, sr\n"
   ]
  },
  {
   "cell_type": "code",
   "execution_count": 118,
   "metadata": {},
   "outputs": [],
   "source": [
    "def apply_pca_spectrum(segments, preserved_energy=None, n_fft=2048):\n",
    "    # Compute the STFT (Short-Time Fourier Transform) for each segment\n",
    "    print('Generating spectrum features...')\n",
    "    spectrum_features = []\n",
    "    spectrum_phases = []\n",
    "    for i, segment in enumerate(segments):\n",
    "        if i % (len(segments) // 10) == 0:\n",
    "            print(f\"{int(i / len(segments) * 100)}/100%\")\n",
    "        spectrum = librosa.stft(segment, n_fft=n_fft)\n",
    "        spectrum_shape = spectrum.shape\n",
    "        spectrum_features.append(np.abs(spectrum.flatten()))\n",
    "        spectrum_phases.append(np.angle(spectrum).flatten())\n",
    "    \n",
    "    spectrum_features = np.array(spectrum_features)\n",
    "    print('spectrum_features:', spectrum_features.shape)\n",
    "    \n",
    "    # Apply PCA\n",
    "    pca = PCA()\n",
    "    print('Performing PCA on spectrum features...')\n",
    "    components = pca.fit_transform(spectrum_features)\n",
    "    print('components:', components.shape)\n",
    "\n",
    "    # Select the specified number of components based on energy\n",
    "    print('Reducing compoments...')\n",
    "    if 0 < preserved_energy < 100:\n",
    "        explained_variance_ratio = pca.explained_variance_ratio_\n",
    "        cumulative_variance = np.cumsum(explained_variance_ratio)\n",
    "        num_components_to_keep = np.argmax(cumulative_variance >= preserved_energy / 100) + 1\n",
    "        reduced_components = components[:, :num_components_to_keep]\n",
    "    else:\n",
    "        reduced_components = components\n",
    "    print('cut at:', num_components_to_keep)\n",
    "    \n",
    "    return components, reduced_components, pca, spectrum_phases, spectrum_shape  \n"
   ]
  },
  {
   "cell_type": "code",
   "execution_count": 119,
   "metadata": {},
   "outputs": [],
   "source": [
    "def rebuild_audio_spectrum(components, reduced_components, pca, spectrum_phases, spectrum_shape, segments, n_fft=2048):\n",
    "    print('Rebuilding audio...')\n",
    "    # Pad the reduced components_mag with zeros to match the original shape\n",
    "    if reduced_components.shape[1] < components.shape[1]:\n",
    "        padding = np.zeros((reduced_components.shape[0], components.shape[1] - reduced_components.shape[1]))\n",
    "        reduced_components = np.hstack((reduced_components, padding))\n",
    "    print('reduced_components:', reduced_components.shape)\n",
    "\n",
    "    # Inverse transform the PCA components\n",
    "    print('Applying inverse PCA ...')\n",
    "    reconstructed_features = pca.inverse_transform(reduced_components)\n",
    "    print('reconstructed_features:', reconstructed_features.shape)\n",
    "\n",
    "    # Generate the real and imaginary parts\n",
    "    reconstructed_spectrum_real = reconstructed_features * np.cos(spectrum_phases)\n",
    "    reconstructed_spectrum_imag = reconstructed_features * np.sin(spectrum_phases)\n",
    "    reconstructed_spectrum = reconstructed_spectrum_real + 1j * reconstructed_spectrum_imag\n",
    "    print('reconstructed_spectrum:', reconstructed_spectrum.shape)\n",
    "    \n",
    "    # Perform the inverse STFT to recover the time-domain signal\n",
    "    print('Reconstructing audio segments...')\n",
    "    reconstructed_audio = []\n",
    "    for i, spectrum in enumerate(reconstructed_spectrum):\n",
    "        if i % (len(reconstructed_spectrum) // 10) == 0:\n",
    "            print(f\"{int(i / len(segments) * 100)}/100%\")\n",
    "        spectrum = spectrum.reshape(spectrum_shape)\n",
    "        segment = librosa.istft(spectrum, n_fft=n_fft, length=len(segments[0]))\n",
    "        reconstructed_audio.append(segment)\n",
    "\n",
    "    reconstructed_audio = np.concatenate(reconstructed_audio)\n",
    "    \n",
    "    return reconstructed_audio"
   ]
  },
  {
   "cell_type": "code",
   "execution_count": 120,
   "metadata": {},
   "outputs": [],
   "source": [
    "# Process files using spectrum as feature\n",
    "folder = r'C:\\Users\\tfmac\\sound_of_rainfall\\morning\\moderate'\n",
    "max_files = 30\n",
    "segment_duration = 10\n",
    "\n",
    "files, segments, segments_by_file, sr = load_and_segment(folder, segment_duration, max_files)\n",
    "\n",
    "n_fft = 2048 # sr // 100"
   ]
  },
  {
   "cell_type": "code",
   "execution_count": 121,
   "metadata": {},
   "outputs": [
    {
     "name": "stdout",
     "output_type": "stream",
     "text": [
      "Number of files: 30\n",
      "Number of segments: 180\n",
      "Number of segments by file: [6, 6, 6, 6, 6, 6, 6, 6, 6, 6, 6, 6, 6, 6, 6, 6, 6, 6, 6, 6, 6, 6, 6, 6, 6, 6, 6, 6, 6, 6]\n"
     ]
    }
   ],
   "source": [
    "print('Number of files:', len(files))\n",
    "print('Number of segments:', len(segments))\n",
    "print('Number of segments by file:', segments_by_file)  # Number of segments per file "
   ]
  },
  {
   "cell_type": "code",
   "execution_count": 122,
   "metadata": {},
   "outputs": [
    {
     "name": "stdout",
     "output_type": "stream",
     "text": [
      "Generating spectrum features...\n",
      "0/100%\n",
      "10/100%\n",
      "20/100%\n",
      "30/100%\n",
      "40/100%\n",
      "50/100%\n",
      "60/100%\n",
      "70/100%\n",
      "80/100%\n",
      "90/100%\n",
      "spectrum_features: (180, 961450)\n",
      "Performing PCA on spectrum features...\n",
      "components: (180, 180)\n",
      "Reducing compoments...\n",
      "cut at: 66\n"
     ]
    }
   ],
   "source": [
    "# Perform PCA based on spectrum\n",
    "# Keep {preserved_energy}% of the variance\n",
    "preserved_energy = 75\n",
    "\n",
    "# Apply PCA to the frequency spectrum features\n",
    "components, reduced_components, pca, spectrum_phases, spectrum_shape = apply_pca_spectrum(segments, preserved_energy, n_fft)"
   ]
  },
  {
   "cell_type": "code",
   "execution_count": 123,
   "metadata": {},
   "outputs": [
    {
     "name": "stdout",
     "output_type": "stream",
     "text": [
      "components energy length: (180,)\n",
      "num_components_to_keep: 66\n"
     ]
    },
    {
     "data": {
      "image/png": "[encoded data removed]",
      "text/plain": [
       "<Figure size 1000x600 with 1 Axes>"
      ]
     },
     "metadata": {},
     "output_type": "display_data"
    }
   ],
   "source": [
    "# Plot PCA component for magnitudes\n",
    "explained_variance_ratio = pca.explained_variance_ratio_\n",
    "num_components_to_keep = reduced_components.shape[1]\n",
    "print('components energy length:', explained_variance_ratio.shape)\n",
    "print('num_components_to_keep:', num_components_to_keep) \n",
    "plot_pca_components(explained_variance_ratio, num_components_to_keep)"
   ]
  },
  {
   "cell_type": "code",
   "execution_count": 124,
   "metadata": {},
   "outputs": [
    {
     "name": "stdout",
     "output_type": "stream",
     "text": [
      "Rebuilding audio...\n",
      "reduced_components: (180, 180)\n",
      "Applying inverse PCA ...\n",
      "reconstructed_features: (180, 961450)\n",
      "reconstructed_spectrum: (180, 961450)\n",
      "Reconstructing audio segments...\n",
      "0/100%\n",
      "10/100%\n",
      "20/100%\n",
      "30/100%\n",
      "40/100%\n",
      "50/100%\n",
      "60/100%\n",
      "70/100%\n",
      "80/100%\n",
      "90/100%\n",
      "reconstructed_audio (86400000,)\n",
      "0/100%\n",
      "10/100%\n",
      "20/100%\n",
      "30/100%\n",
      "40/100%\n",
      "50/100%\n",
      "60/100%\n",
      "70/100%\n",
      "80/100%\n",
      "90/100%\n"
     ]
    }
   ],
   "source": [
    "# Reconstruct the audio from reconstructed components\n",
    "reconstructed_audio = rebuild_audio_spectrum(components, reduced_components, pca, spectrum_phases, spectrum_shape, segments, n_fft)\n",
    "print('reconstructed_audio', reconstructed_audio.shape)\n",
    "\n",
    "# Save the reconstructed audio\n",
    "print('Writing reconstructed audio to files...')\n",
    "for i, f in enumerate(files):\n",
    "    if i % (len(files) // 10) == 0:\n",
    "        print(f\"{int(i/len(files)*100)}/100%\")\n",
    "    # Output file path\n",
    "    output_file_path = f.replace('.wav', '_pca.wav')\n",
    "    start = i * len(segments[0]) * segments_by_file[i]\n",
    "    end = (i + 1) * len(segments[0]) * segments_by_file[i]\n",
    "\n",
    "    # Save the reconstructed audio\n",
    "    sf.write(output_file_path, reconstructed_audio[start:end], sr)\n",
    "    # print(f\"Reconstructed audio saved to {output_file_path}\")"
   ]
  },
  {
   "cell_type": "code",
   "execution_count": 125,
   "metadata": {},
   "outputs": [],
   "source": [
    "# # Play the original audio\n",
    "# ipd.Audio(file_path)"
   ]
  },
  {
   "cell_type": "code",
   "execution_count": 126,
   "metadata": {},
   "outputs": [],
   "source": [
    "# # Play the reconstructed audio\n",
    "# ipd.Audio(temp_folder_2)"
   ]
  },
  {
   "cell_type": "code",
   "execution_count": 127,
   "metadata": {},
   "outputs": [],
   "source": [
    "# # Process files using LPC as feature\n",
    "# # Example usage\n",
    "# segment_duration = 2\n",
    "# num_components = 90  # Keep {num_components}% of the variance\n",
    "\n",
    "# # Load and segment the audio\n",
    "# segments, sr = load_and_segment(file_path, segment_duration)\n",
    "\n",
    "# # Apply PCA to LPC features and get PCA object and LPC features\n",
    "# components, pca, lpc_features, lpc_original = apply_pca_lpc(segments, sr, num_components, order=2 * sr // 1000)\n",
    "\n",
    "# # Plot PCA component magnitudes\n",
    "# explained_variance_ratio = pca.explained_variance_ratio_\n",
    "# num_components_to_keep = len(components[0])\n",
    "# plot_pca_components(components, explained_variance_ratio, num_components_to_keep)\n",
    "\n",
    "# # Rebuild the audio from reconstructed LPC features\n",
    "# reconstructed_audio = rebuild_audio_lpc(components, pca, lpc_features, lpc_original, segments, sr)\n",
    "\n",
    "# # Save the reconstructed audio\n",
    "# # Get the path to the Temp folder of the current Windows user\n",
    "# temp_folder_1 = os.path.join(r'C:\\Users\\tfmac\\Temp', 'reconstructed_audio_lpc.wav')\n",
    "\n",
    "# # Save the reconstructed audio\n",
    "# sf.write(temp_folder_1, reconstructed_audio, sr)\n",
    "\n",
    "# print(f\"Reconstructed audio saved to {temp_folder_1}\")"
   ]
  },
  {
   "cell_type": "code",
   "execution_count": 128,
   "metadata": {},
   "outputs": [],
   "source": [
    "# # Play the original audio\n",
    "# ipd.Audio(file_path)"
   ]
  },
  {
   "cell_type": "code",
   "execution_count": 129,
   "metadata": {},
   "outputs": [],
   "source": [
    "# # Play the reconstructed audio\n",
    "# ipd.Audio(temp_folder_1)"
   ]
  }
 ],
 "metadata": {
  "kernelspec": {
   "display_name": "base",
   "language": "python",
   "name": "python3"
  },
  "language_info": {
   "codemirror_mode": {
    "name": "ipython",
    "version": 3
   },
   "file_extension": ".py",
   "mimetype": "text/x-python",
   "name": "python",
   "nbconvert_exporter": "python",
   "pygments_lexer": "ipython3",
   "version": "3.11.8"
  }
 },
 "nbformat": 4,
 "nbformat_minor": 4
}
