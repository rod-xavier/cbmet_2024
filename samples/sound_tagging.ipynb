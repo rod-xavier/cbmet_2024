{
 "cells": [
  {
   "cell_type": "code",
   "execution_count": 11,
   "metadata": {},
   "outputs": [],
   "source": [
    "# Importing the required libraries\n",
    "import os\n",
    "import json\n",
    "import pandas as pd\n",
    "import mutagen"
   ]
  },
  {
   "cell_type": "code",
   "execution_count": 12,
   "metadata": {},
   "outputs": [
    {
     "data": {
      "text/html": [
       "<div>\n",
       "<style scoped>\n",
       "    .dataframe tbody tr th:only-of-type {\n",
       "        vertical-align: middle;\n",
       "    }\n",
       "\n",
       "    .dataframe tbody tr th {\n",
       "        vertical-align: top;\n",
       "    }\n",
       "\n",
       "    .dataframe thead th {\n",
       "        text-align: right;\n",
       "    }\n",
       "</style>\n",
       "<table border=\"1\" class=\"dataframe\">\n",
       "  <thead>\n",
       "    <tr style=\"text-align: right;\">\n",
       "      <th></th>\n",
       "      <th>timestamp</th>\n",
       "      <th>filename</th>\n",
       "      <th>rain</th>\n",
       "      <th>rain_class</th>\n",
       "      <th>total_rain</th>\n",
       "    </tr>\n",
       "  </thead>\n",
       "  <tbody>\n",
       "    <tr>\n",
       "      <th>0</th>\n",
       "      <td>2023-02-14 10:00:00</td>\n",
       "      <td>SMM00894_20230214_100000.wav</td>\n",
       "      <td>0</td>\n",
       "      <td>no rain</td>\n",
       "      <td>0.0</td>\n",
       "    </tr>\n",
       "    <tr>\n",
       "      <th>1</th>\n",
       "      <td>2023-02-14 10:05:00</td>\n",
       "      <td>SMM00894_20230214_100500.wav</td>\n",
       "      <td>0</td>\n",
       "      <td>no rain</td>\n",
       "      <td>0.0</td>\n",
       "    </tr>\n",
       "    <tr>\n",
       "      <th>2</th>\n",
       "      <td>2023-02-14 10:10:00</td>\n",
       "      <td>SMM00894_20230214_101011.wav</td>\n",
       "      <td>0</td>\n",
       "      <td>no rain</td>\n",
       "      <td>0.0</td>\n",
       "    </tr>\n",
       "    <tr>\n",
       "      <th>3</th>\n",
       "      <td>2023-02-14 10:15:00</td>\n",
       "      <td>SMM00894_20230214_101500.wav</td>\n",
       "      <td>0</td>\n",
       "      <td>no rain</td>\n",
       "      <td>0.0</td>\n",
       "    </tr>\n",
       "    <tr>\n",
       "      <th>4</th>\n",
       "      <td>2023-02-14 10:20:00</td>\n",
       "      <td>SMM00894_20230214_102000.wav</td>\n",
       "      <td>0</td>\n",
       "      <td>no rain</td>\n",
       "      <td>0.0</td>\n",
       "    </tr>\n",
       "  </tbody>\n",
       "</table>\n",
       "</div>"
      ],
      "text/plain": [
       "             timestamp                      filename  rain rain_class  \\\n",
       "0  2023-02-14 10:00:00  SMM00894_20230214_100000.wav     0    no rain   \n",
       "1  2023-02-14 10:05:00  SMM00894_20230214_100500.wav     0    no rain   \n",
       "2  2023-02-14 10:10:00  SMM00894_20230214_101011.wav     0    no rain   \n",
       "3  2023-02-14 10:15:00  SMM00894_20230214_101500.wav     0    no rain   \n",
       "4  2023-02-14 10:20:00  SMM00894_20230214_102000.wav     0    no rain   \n",
       "\n",
       "   total_rain  \n",
       "0         0.0  \n",
       "1         0.0  \n",
       "2         0.0  \n",
       "3         0.0  \n",
       "4         0.0  "
      ]
     },
     "execution_count": 12,
     "metadata": {},
     "output_type": "execute_result"
    }
   ],
   "source": [
    "# Read the CSV file into a pandas dataframe\n",
    "rain_files_df = pd.read_csv('rain_files.csv')\n",
    "\n",
    "# Display the first few rows of the dataframe\n",
    "rain_files_df.head()"
   ]
  },
  {
   "cell_type": "code",
   "execution_count": 13,
   "metadata": {},
   "outputs": [
    {
     "data": {
      "text/plain": [
       "[{'filename': 'C:\\\\Users\\\\tfmac\\\\Downloads\\\\SMM00894_20230214_100000.wav',\n",
       "  'rain_class': 'no rain',\n",
       "  'total_rain': '0.0'},\n",
       " {'filename': 'C:\\\\Users\\\\tfmac\\\\Downloads\\\\SMM00894_20230214_100500.wav',\n",
       "  'rain_class': 'no rain',\n",
       "  'total_rain': '0.0'},\n",
       " {'filename': 'C:\\\\Users\\\\tfmac\\\\Downloads\\\\SMM00894_20230214_101011.wav',\n",
       "  'rain_class': 'no rain',\n",
       "  'total_rain': '0.0'},\n",
       " {'filename': 'C:\\\\Users\\\\tfmac\\\\Downloads\\\\SMM00894_20230214_101500.wav',\n",
       "  'rain_class': 'no rain',\n",
       "  'total_rain': '0.0'},\n",
       " {'filename': 'C:\\\\Users\\\\tfmac\\\\Downloads\\\\SMM00894_20230214_102000.wav',\n",
       "  'rain_class': 'no rain',\n",
       "  'total_rain': '0.0'}]"
      ]
     },
     "execution_count": 13,
     "metadata": {},
     "output_type": "execute_result"
    }
   ],
   "source": [
    "folder_path = r'C:\\Users\\tfmac\\Downloads'\n",
    "\n",
    "rain_data_list = rain_files_df.apply(lambda row: {\n",
    "    'filename': os.path.join(folder_path, row['filename']),\n",
    "    'rain_class': row['rain_class'],\n",
    "    'total_rain': str(row['total_rain'])\n",
    "}, axis=1).tolist()\n",
    "\n",
    "rain_data_list[:5]"
   ]
  },
  {
   "cell_type": "code",
   "execution_count": 14,
   "metadata": {},
   "outputs": [
    {
     "name": "stdout",
     "output_type": "stream",
     "text": [
      "48208\n"
     ]
    }
   ],
   "source": [
    "print(len(rain_data_list))"
   ]
  },
  {
   "cell_type": "code",
   "execution_count": 15,
   "metadata": {},
   "outputs": [
    {
     "name": "stdout",
     "output_type": "stream",
     "text": [
      "File C:\\Users\\tfmac\\Downloads\\SMM00894_20230214_100000.wav does not exist.\n",
      "File C:\\Users\\tfmac\\Downloads\\SMM00894_20230214_100500.wav does not exist.\n",
      "File C:\\Users\\tfmac\\Downloads\\SMM00894_20230214_101011.wav does not exist.\n",
      "File C:\\Users\\tfmac\\Downloads\\SMM00894_20230214_101500.wav does not exist.\n",
      "File C:\\Users\\tfmac\\Downloads\\SMM00894_20230214_102000.wav does not exist.\n",
      "File C:\\Users\\tfmac\\Downloads\\SMM00894_20230214_102500.wav does not exist.\n",
      "File C:\\Users\\tfmac\\Downloads\\SMM00894_20230214_103000.wav does not exist.\n",
      "File C:\\Users\\tfmac\\Downloads\\SMM00894_20230214_103500.wav does not exist.\n",
      "File C:\\Users\\tfmac\\Downloads\\SMM00894_20230214_104000.wav does not exist.\n",
      "File C:\\Users\\tfmac\\Downloads\\SMM00894_20230214_104500.wav does not exist.\n",
      "Processing C:\\Users\\tfmac\\Downloads\\SMM00894_20230214_105000.wav...\n",
      "58\n",
      "Finished...\n"
     ]
    }
   ],
   "source": [
    "\n",
    "from mutagen.wave import WAVE\n",
    "from mutagen.id3 import ID3, TIT2, TPE1, COMM\n",
    "\n",
    "k = 0\n",
    "for file in rain_data_list:\n",
    "    # Check if the .wav file exists\n",
    "    if not os.path.exists(file['filename']):\n",
    "        print(f\"File {file['filename']} does not exist.\")\n",
    "        continue\n",
    "    else:\n",
    "        print(f\"Processing {file['filename']}...\")\n",
    "\n",
    "   \n",
    "    # Print the metadata\n",
    "    f = mutagen.File(file['filename'])\n",
    "    # Create an ID3 tag if it doesn't exist\n",
    "    if not f.tags:\n",
    "        f.add_tags()\n",
    "    else:\n",
    "        print(f.tags)\n",
    "    \n",
    "    k = k + 1\n",
    "    new_metadata = {\n",
    "        'category': file['rain_class'],\n",
    "        'place': 'Campus',\n",
    "        'value': file['total_rain']\n",
    "    }\n",
    "\n",
    "    json_metadata = json.dumps(new_metadata)\n",
    "    print(len(json_metadata))\n",
    "\n",
    "    # Add the JSON string as a COMM tag\n",
    "    f.tags.add(mutagen.id3.COMM(encoding=3, lang='eng', desc='', text=json_metadata))\n",
    "\n",
    "    # Save the changes\n",
    "    f.save()\n",
    "    \n",
    "    if k == 1:\n",
    "        print('Finished...')\n",
    "        break"
   ]
  }
 ],
 "metadata": {
  "kernelspec": {
   "display_name": "base",
   "language": "python",
   "name": "python3"
  },
  "language_info": {
   "codemirror_mode": {
    "name": "ipython",
    "version": 3
   },
   "file_extension": ".py",
   "mimetype": "text/x-python",
   "name": "python",
   "nbconvert_exporter": "python",
   "pygments_lexer": "ipython3",
   "version": "3.11.7"
  }
 },
 "nbformat": 4,
 "nbformat_minor": 2
}
