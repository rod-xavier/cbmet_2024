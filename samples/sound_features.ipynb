{
 "cells": [
  {
   "cell_type": "code",
   "execution_count": null,
   "metadata": {},
   "outputs": [],
   "source": [
    "import numpy as np\n",
    "import os\n",
    "from scipy.signal import lfilter\n",
    "from scipy.linalg import toeplitz, solve_toeplitz\n",
    "import scipy.io.wavfile as wav\n",
    "\n",
    "lpc_order = 16\n",
    "\n",
    "# Calculate LPC coefficients\n",
    "def calculate_lpc(signal, order):\n",
    "    # Autocorrelation method\n",
    "    autocorr = np.correlate(signal, signal, mode='full')\n",
    "    autocorr = autocorr[len(autocorr)//2:]\n",
    "    \n",
    "    # Solve the Yule-Walker equations\n",
    "    R = toeplitz(autocorr[:order])\n",
    "    r = autocorr[1:order+1]\n",
    "    lpc_coeffs = solve_toeplitz((autocorr[:order], autocorr[:order]), r)\n",
    "    \n",
    "    return np.concatenate(([1], -lpc_coeffs))\n",
    "\n",
    "# Directory containing the audio files\n",
    "directory = 'no rain'\n",
    "\n",
    "lpc_coeffs = []\n",
    "# Process each file in the directory\n",
    "for filename in os.listdir(directory):\n",
    "    if filename.endswith('.wav'):\n",
    "        filepath = os.path.join(directory, filename)\n",
    "        \n",
    "        # Read the audio file\n",
    "        sr, signal = wav.read(filepath)\n",
    "        \n",
    "        # Extract a 10-second segment\n",
    "        segment_samples = segment_duration * sr\n",
    "        segment = signal[:segment_samples]\n",
    "        \n",
    "        # Calculate LPC coefficients for the segment\n",
    "        lpc_coeffs.append(calculate_lpc(segment, lpc_order))     \n"
   ]
  },
  {
   "cell_type": "code",
   "execution_count": null,
   "metadata": {},
   "outputs": [],
   "source": []
  }
 ],
 "metadata": {
  "kernelspec": {
   "display_name": "NumMeth",
   "language": "python",
   "name": "python3"
  },
  "language_info": {
   "codemirror_mode": {
    "name": "ipython",
    "version": 3
   },
   "file_extension": ".py",
   "mimetype": "text/x-python",
   "name": "python",
   "nbconvert_exporter": "python",
   "pygments_lexer": "ipython3",
   "version": "3.10.13"
  }
 },
 "nbformat": 4,
 "nbformat_minor": 2
}
